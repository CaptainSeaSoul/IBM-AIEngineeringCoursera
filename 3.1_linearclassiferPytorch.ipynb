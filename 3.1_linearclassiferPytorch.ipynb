{
 "cells": [
  {
   "cell_type": "markdown",
   "metadata": {},
   "source": [
    "<a href=\"http://cocl.us/pytorch_link_top\">\n",
    "    <img src=\"https://s3-api.us-geo.objectstorage.softlayer.net/cf-courses-data/CognitiveClass/DL0110EN/notebook_images%20/Pytochtop.png\" width=\"750\" alt=\"IBM Product \" />\n",
    "</a> \n"
   ]
  },
  {
   "cell_type": "markdown",
   "metadata": {},
   "source": [
    "<img src=\"https://s3-api.us-geo.objectstorage.softlayer.net/cf-courses-data/CognitiveClass/DL0110EN/notebook_images%20/cc-logo-square.png\" width=\"200\" alt=\"cognitiveclass.ai logo\" />\n"
   ]
  },
  {
   "cell_type": "markdown",
   "metadata": {},
   "source": [
    "<h1>Objective</h1><ul><li> How to use linear classifier in pytorch.</li></ul> \n"
   ]
  },
  {
   "cell_type": "markdown",
   "metadata": {},
   "source": [
    "<h1>Linear  Classifier with PyTorch </h1>\n"
   ]
  },
  {
   "cell_type": "markdown",
   "metadata": {},
   "source": [
    "<p>Before you use a  Deep neural network to solve the classification problem,  it 's a good idea to try and solve the problem with the simplest method. You will need the dataset object from the previous section.\n",
    "In this lab, we solve the problem with a linear classifier.\n",
    " You will be asked to determine the maximum accuracy your linear classifier can achieve on the validation data for 5 epochs. We will give some free parameter values if you follow the instructions you will be able to answer the quiz. Just like the other labs there are several steps, but in this lab you will only be quizzed on the final result. </p>\n"
   ]
  },
  {
   "cell_type": "markdown",
   "metadata": {},
   "source": [
    "<h2>Table of Contents</h2>\n"
   ]
  },
  {
   "cell_type": "markdown",
   "metadata": {},
   "source": [
    "<div class=\"alert alert-block alert-info\" style=\"margin-top: 20px\">\n",
    "\n",
    "<ul>\n",
    "    <li><a href=\"#download_data\"> Download data</a></li>\n",
    "    <li><a href=\"#auxiliary\"> Imports and Auxiliary Functions </a></li>\n",
    "    <li><a href=\"#data_class\"> Dataset Class</a></li>\n",
    "    <li><a href=\"#trasform_Data_object\">Transform Object and Dataset Object</a></li>\n",
    "    <li><a href=\"#Question\">Question</a></li>\n",
    "</ul>\n",
    "<p>Estimated Time Needed: <strong>25 min</strong></p>\n",
    " </div>\n",
    "<hr>\n"
   ]
  },
  {
   "cell_type": "markdown",
   "metadata": {},
   "source": [
    "<h2 id=\"download_data\">Download Data</h2>\n"
   ]
  },
  {
   "cell_type": "markdown",
   "metadata": {},
   "source": [
    "In this section, you are going to download the data from IBM object storage using <b>wget</b>, then unzip them.  <b>wget</b> is a command the retrieves content from web servers, in this case its a zip file. Locally we store the data in the directory  <b>/resources/data</b> . The <b>-p</b> creates the entire directory tree up to the given directory.\n"
   ]
  },
  {
   "cell_type": "markdown",
   "metadata": {},
   "source": [
    "First, we download the file that contains the images, if you dint do this in your first lab uncomment:\n"
   ]
  },
  {
   "cell_type": "code",
   "execution_count": 1,
   "metadata": {},
   "outputs": [],
   "source": [
    "# import wget\n",
    "# !python -m wget https://s3-api.us-geo.objectstorage.softlayer.net/cf-courses-data/CognitiveClass/DL0321EN/data/images/concrete_crack_images_for_classification.zip -o ./resources/data"
   ]
  },
  {
   "cell_type": "markdown",
   "metadata": {},
   "source": [
    "We then unzip the file, this ma take a while:\n"
   ]
  },
  {
   "cell_type": "code",
   "execution_count": 2,
   "metadata": {},
   "outputs": [],
   "source": [
    "# !unzip -q  ./resources/data/concrete_crack_images_for_classification.zip -d  ./resources/data"
   ]
  },
  {
   "cell_type": "markdown",
   "metadata": {},
   "source": [
    "We then download the files that contain the negative images:\n"
   ]
  },
  {
   "cell_type": "markdown",
   "metadata": {},
   "source": [
    "<h2 id=\"auxiliary\">Imports and Auxiliary Functions</h2>\n"
   ]
  },
  {
   "cell_type": "markdown",
   "metadata": {},
   "source": [
    "The following are the libraries we are going to use for this lab:\n"
   ]
  },
  {
   "cell_type": "code",
   "execution_count": 3,
   "metadata": {},
   "outputs": [],
   "source": [
    "import numpy as np\n",
    "from PIL import Image\n",
    "import matplotlib.pyplot as plt\n",
    "import os\n",
    "import glob\n",
    "import torch\n",
    "from torch.utils.data import Dataset, DataLoader\n",
    "import torchvision.transforms as transforms\n",
    "import torch.nn as nn\n",
    "from torch import optim "
   ]
  },
  {
   "cell_type": "markdown",
   "metadata": {},
   "source": [
    "<h2 id=\"data_class\">Dataset Class</h2>\n"
   ]
  },
  {
   "cell_type": "markdown",
   "metadata": {},
   "source": [
    "In this section, we will use the previous code to build a dataset class. As before, make sure the even samples are positive, and the odd samples are negative.  If the parameter <code>train</code> is set to <code>True</code>, use the first 30 000  samples as training data; otherwise, the remaining samples will be used as validation data. Do not forget to sort your files so they are in the same order.  \n"
   ]
  },
  {
   "cell_type": "code",
   "execution_count": 4,
   "metadata": {},
   "outputs": [],
   "source": [
    "class Dataset(Dataset):\r\n",
    "\r\n",
    "    # Constructor\r\n",
    "    def __init__(self,transform=None,train=True):\r\n",
    "        directory=\"./resources/data\"\r\n",
    "        positive=\"Positive\"\r\n",
    "        negative=\"Negative\"\r\n",
    "\r\n",
    "        positive_file_path=os.path.join(directory,positive)\r\n",
    "        negative_file_path=os.path.join(directory,negative)\r\n",
    "        positive_files=[os.path.join(positive_file_path,file) for file in  os.listdir(positive_file_path) if file.endswith(\".jpg\")]\r\n",
    "        positive_files.sort()\r\n",
    "        negative_files=[os.path.join(negative_file_path,file) for file in  os.listdir(negative_file_path) if file.endswith(\".jpg\")]\r\n",
    "        negative_files.sort()\r\n",
    "        number_of_samples=len(positive_files)+len(negative_files)\r\n",
    "        self.all_files=[None]*number_of_samples\r\n",
    "        self.all_files[::2]=positive_files\r\n",
    "        self.all_files[1::2]=negative_files \r\n",
    "        # The transform is goint to be used on image\r\n",
    "        self.transform = transform\r\n",
    "        #torch.LongTensor\r\n",
    "        self.Y=torch.zeros([number_of_samples]).type(torch.LongTensor)\r\n",
    "        self.Y[::2]=1\r\n",
    "        self.Y[1::2]=0\r\n",
    "        \r\n",
    "        if train:\r\n",
    "            self.all_files=self.all_files[0:30000]\r\n",
    "            self.Y=self.Y[0:30000]\r\n",
    "            self.len=len(self.all_files)\r\n",
    "        else:\r\n",
    "            self.all_files=self.all_files[30000:]\r\n",
    "            self.Y=self.Y[30000:]\r\n",
    "            self.len=len(self.all_files)    \r\n",
    "       \r\n",
    "    # Get the length\r\n",
    "    def __len__(self):\r\n",
    "        return self.len\r\n",
    "    \r\n",
    "    # Getter\r\n",
    "    def __getitem__(self, idx):\r\n",
    "        \r\n",
    "        \r\n",
    "        image=Image.open(self.all_files[idx])\r\n",
    "        y=self.Y[idx]\r\n",
    "          \r\n",
    "        \r\n",
    "        # If there is any transform method, apply it onto the image\r\n",
    "        if self.transform:\r\n",
    "            image = self.transform(image)\r\n",
    "\r\n",
    "        return image, y"
   ]
  },
  {
   "cell_type": "markdown",
   "metadata": {},
   "source": [
    "<h2 id=\"trasform_Data_object\">Transform Object and Dataset Object</h2>\n"
   ]
  },
  {
   "cell_type": "markdown",
   "metadata": {},
   "source": [
    "Create a transform object, that uses the <code>Compose</code> function. First use the transform <code>ToTensor()</code> and followed by <code>Normalize(mean, std)</code>. The value for <code> mean</code> and <code>std</code> are provided for you.\n"
   ]
  },
  {
   "cell_type": "code",
   "execution_count": 5,
   "metadata": {},
   "outputs": [],
   "source": [
    "mean = [0.485, 0.456, 0.406]\r\n",
    "std = [0.229, 0.224, 0.225]\r\n",
    "# transforms.ToTensor()\r\n",
    "#transforms.Normalize(mean, std)\r\n",
    "#transforms.Compose([])\r\n",
    "\r\n",
    "transform =transforms.Compose([ transforms.ToTensor(), transforms.Normalize(mean, std)])\r\n"
   ]
  },
  {
   "cell_type": "markdown",
   "metadata": {},
   "source": [
    "Create object for the training data  <code>dataset_train</code> and validation <code>dataset_val</code>. Use the transform object to convert the images to tensors using the transform object:\n"
   ]
  },
  {
   "cell_type": "code",
   "execution_count": 6,
   "metadata": {},
   "outputs": [],
   "source": [
    "dataset_train=Dataset(transform=transform,train=True)\r\n",
    "dataset_val=Dataset(transform=transform,train=False)"
   ]
  },
  {
   "cell_type": "markdown",
   "metadata": {},
   "source": [
    "We  can find the shape of the image:\n"
   ]
  },
  {
   "cell_type": "code",
   "execution_count": 7,
   "metadata": {},
   "outputs": [
    {
     "data": {
      "text/plain": [
       "torch.Size([3, 227, 227])"
      ]
     },
     "execution_count": 7,
     "metadata": {},
     "output_type": "execute_result"
    }
   ],
   "source": [
    "dataset_train[0][0].shape"
   ]
  },
  {
   "cell_type": "markdown",
   "metadata": {},
   "source": [
    "We see that it's a color image with three channels:\n"
   ]
  },
  {
   "cell_type": "code",
   "execution_count": 8,
   "metadata": {},
   "outputs": [
    {
     "data": {
      "text/plain": [
       "154587"
      ]
     },
     "execution_count": 8,
     "metadata": {},
     "output_type": "execute_result"
    }
   ],
   "source": [
    "size_of_image=3*227*227\r\n",
    "size_of_image"
   ]
  },
  {
   "cell_type": "markdown",
   "metadata": {},
   "source": [
    "<h2 id=\"Question\"> Question <h2>\n"
   ]
  },
  {
   "cell_type": "markdown",
   "metadata": {},
   "source": [
    "<b> Create a custom module for Softmax for two classes,called model. The input size should be the <code>size_of_image</code>, you should record the maximum accuracy achieved on the validation data for the different epochs. For example if the 5 epochs the accuracy was 0.5, 0.2, 0.64,0.77, 0.66 you would select 0.77.</b>\n"
   ]
  },
  {
   "cell_type": "markdown",
   "metadata": {},
   "source": [
    "Train the model with the following free parameter values:\n"
   ]
  },
  {
   "cell_type": "markdown",
   "metadata": {},
   "source": [
    "<b>Parameter Values</b>\n",
    "\n",
    "   <li>learning rate:0.1 </li>\n",
    "   <li>momentum term:0.1 </li>\n",
    "   <li>batch size training:1000</li>\n",
    "   <li>Loss function:Cross Entropy Loss </li>\n",
    "   <li>epochs:5</li>\n",
    "   <li>set: torch.manual_seed(0)</li>\n"
   ]
  },
  {
   "cell_type": "code",
   "execution_count": 9,
   "metadata": {},
   "outputs": [
    {
     "data": {
      "text/plain": [
       "<torch._C.Generator at 0x1c6dbd0f210>"
      ]
     },
     "execution_count": 9,
     "metadata": {},
     "output_type": "execute_result"
    }
   ],
   "source": [
    "torch.manual_seed(0)"
   ]
  },
  {
   "cell_type": "markdown",
   "metadata": {},
   "source": [
    "<b>Custom Module:</b>\n"
   ]
  },
  {
   "cell_type": "code",
   "execution_count": 10,
   "metadata": {},
   "outputs": [],
   "source": [
    "class CustomSoftmax(torch.nn.Module):\r\n",
    "    def __init__(self, size_of_image, num_classes=2):\r\n",
    "        super(CustomSoftmax, self).__init__()\r\n",
    "        self.linear = nn.Linear(size_of_image, num_classes)\r\n",
    "        \r\n",
    "    def forward(self, x):\r\n",
    "        return self.linear(x)\r\n",
    "        "
   ]
  },
  {
   "cell_type": "markdown",
   "metadata": {},
   "source": [
    "<b>Model Object:</b>\n"
   ]
  },
  {
   "cell_type": "code",
   "execution_count": 11,
   "metadata": {},
   "outputs": [],
   "source": [
    "model = CustomSoftmax(size_of_image)"
   ]
  },
  {
   "cell_type": "markdown",
   "metadata": {},
   "source": [
    "<b>Optimizer:</b>\n"
   ]
  },
  {
   "cell_type": "code",
   "execution_count": 12,
   "metadata": {},
   "outputs": [],
   "source": [
    "optimizer = torch.optim.SGD(model.parameters(), lr=0.1, momentum=0.1)"
   ]
  },
  {
   "cell_type": "markdown",
   "metadata": {},
   "source": [
    "<b>Criterion:</b>\n"
   ]
  },
  {
   "cell_type": "code",
   "execution_count": 13,
   "metadata": {},
   "outputs": [],
   "source": [
    "criterion = torch.nn.CrossEntropyLoss()"
   ]
  },
  {
   "cell_type": "markdown",
   "metadata": {},
   "source": [
    "<b>Data Loader Training and Validation:</b>\n"
   ]
  },
  {
   "cell_type": "code",
   "execution_count": 14,
   "metadata": {},
   "outputs": [],
   "source": [
    "train_data_loader = torch.utils.data.DataLoader(dataset_train, batch_size=1000)\r\n",
    "valid_data_loader = torch.utils.data.DataLoader(dataset_val, batch_size=1000)"
   ]
  },
  {
   "cell_type": "markdown",
   "metadata": {},
   "source": [
    "<b>Train Model with 5 epochs, should take 35 minutes: </b>\n"
   ]
  },
  {
   "cell_type": "code",
   "execution_count": 15,
   "metadata": {
    "scrolled": true,
    "tags": []
   },
   "outputs": [
    {
     "name": "stderr",
     "output_type": "stream",
     "text": [
      "epochs:   0%|          | 0/5 [00:00<?, ?it/s]\n",
      "training:   0%|          | 0/30 [00:00<?, ?it/s]\u001b[A\n",
      "training:   3%|▎         | 1/30 [00:02<01:06,  2.30s/it]\u001b[A\n",
      "training:   7%|▋         | 2/30 [00:04<01:08,  2.44s/it]\u001b[A\n",
      "training:  10%|█         | 3/30 [00:07<01:07,  2.49s/it]\u001b[A\n",
      "training:  13%|█▎        | 4/30 [00:09<01:05,  2.50s/it]\u001b[A\n",
      "training:  17%|█▋        | 5/30 [00:12<01:01,  2.46s/it]\u001b[A\n",
      "training:  20%|██        | 6/30 [00:14<01:00,  2.53s/it]\u001b[A\n",
      "training:  23%|██▎       | 7/30 [00:17<00:57,  2.51s/it]\u001b[A\n",
      "training:  27%|██▋       | 8/30 [00:20<00:56,  2.59s/it]\u001b[A\n",
      "training:  30%|███       | 9/30 [00:23<00:57,  2.72s/it]\u001b[A\n",
      "training:  33%|███▎      | 10/30 [00:25<00:54,  2.72s/it]\u001b[A\n",
      "training:  37%|███▋      | 11/30 [00:28<00:49,  2.61s/it]\u001b[A\n",
      "training:  40%|████      | 12/30 [00:31<00:47,  2.65s/it]\u001b[A\n",
      "training:  43%|████▎     | 13/30 [00:33<00:43,  2.56s/it]\u001b[A\n",
      "training:  47%|████▋     | 14/30 [00:35<00:40,  2.53s/it]\u001b[A\n",
      "training:  50%|█████     | 15/30 [00:38<00:37,  2.48s/it]\u001b[A\n",
      "training:  53%|█████▎    | 16/30 [00:40<00:34,  2.44s/it]\u001b[A\n",
      "training:  57%|█████▋    | 17/30 [00:42<00:31,  2.42s/it]\u001b[A\n",
      "training:  60%|██████    | 18/30 [00:45<00:28,  2.39s/it]\u001b[A\n",
      "training:  63%|██████▎   | 19/30 [00:47<00:27,  2.50s/it]\u001b[A\n",
      "training:  67%|██████▋   | 20/30 [00:50<00:25,  2.53s/it]\u001b[A\n",
      "training:  70%|███████   | 21/30 [00:52<00:22,  2.47s/it]\u001b[A\n",
      "training:  73%|███████▎  | 22/30 [00:55<00:19,  2.45s/it]\u001b[A\n",
      "training:  77%|███████▋  | 23/30 [00:57<00:16,  2.43s/it]\u001b[A\n",
      "training:  80%|████████  | 24/30 [01:00<00:14,  2.41s/it]\u001b[A\n",
      "training:  83%|████████▎ | 25/30 [01:02<00:12,  2.43s/it]\u001b[A\n",
      "training:  87%|████████▋ | 26/30 [01:04<00:09,  2.43s/it]\u001b[A\n",
      "training:  90%|█████████ | 27/30 [01:07<00:07,  2.42s/it]\u001b[A\n",
      "training:  93%|█████████▎| 28/30 [01:09<00:04,  2.41s/it]\u001b[A\n",
      "training:  97%|█████████▋| 29/30 [01:12<00:02,  2.40s/it]\u001b[A\n",
      "training: 100%|██████████| 30/30 [01:14<00:00,  2.48s/it]\u001b[A\n",
      "\n",
      "validating:   0%|          | 0/10 [00:00<?, ?it/s]\u001b[A\n",
      "validating:  10%|█         | 1/10 [00:02<00:21,  2.34s/it]\u001b[A\n",
      "validating:  20%|██        | 2/10 [00:04<00:19,  2.46s/it]\u001b[A\n",
      "validating:  30%|███       | 3/10 [00:07<00:16,  2.40s/it]\u001b[A\n",
      "validating:  40%|████      | 4/10 [00:09<00:14,  2.38s/it]\u001b[A\n",
      "validating:  50%|█████     | 5/10 [00:11<00:11,  2.36s/it]\u001b[A\n",
      "validating:  60%|██████    | 6/10 [00:14<00:09,  2.33s/it]\u001b[A\n",
      "validating:  70%|███████   | 7/10 [00:16<00:06,  2.31s/it]\u001b[A\n",
      "validating:  80%|████████  | 8/10 [00:19<00:04,  2.39s/it]\u001b[A\n",
      "validating:  90%|█████████ | 9/10 [00:21<00:02,  2.42s/it]\u001b[A\n",
      "validating: 100%|██████████| 10/10 [00:23<00:00,  2.38s/it]\u001b[A\n",
      "epochs:  20%|██        | 1/5 [01:38<06:33, 98.26s/it]\n",
      "training:   0%|          | 0/30 [00:00<?, ?it/s]\u001b[A\n",
      "training:   3%|▎         | 1/30 [00:02<01:10,  2.43s/it]\u001b[A\n",
      "training:   7%|▋         | 2/30 [00:04<01:06,  2.39s/it]\u001b[A\n",
      "training:  10%|█         | 3/30 [00:07<01:04,  2.39s/it]\u001b[A\n",
      "training:  13%|█▎        | 4/30 [00:09<01:01,  2.37s/it]\u001b[A\n",
      "training:  17%|█▋        | 5/30 [00:11<00:59,  2.40s/it]\u001b[A\n",
      "training:  20%|██        | 6/30 [00:14<00:57,  2.41s/it]\u001b[A\n",
      "training:  23%|██▎       | 7/30 [00:16<00:55,  2.40s/it]\u001b[A\n",
      "training:  27%|██▋       | 8/30 [00:19<00:52,  2.38s/it]\u001b[A\n",
      "training:  30%|███       | 9/30 [00:21<00:49,  2.37s/it]\u001b[A\n",
      "training:  33%|███▎      | 10/30 [00:23<00:47,  2.36s/it]\u001b[A\n",
      "training:  37%|███▋      | 11/30 [00:26<00:45,  2.37s/it]\u001b[A\n",
      "training:  40%|████      | 12/30 [00:28<00:43,  2.42s/it]\u001b[A\n",
      "training:  43%|████▎     | 13/30 [00:31<00:41,  2.41s/it]\u001b[A\n",
      "training:  47%|████▋     | 14/30 [00:33<00:38,  2.38s/it]\u001b[A\n",
      "training:  50%|█████     | 15/30 [00:36<00:36,  2.44s/it]\u001b[A\n",
      "training:  53%|█████▎    | 16/30 [00:38<00:34,  2.47s/it]\u001b[A\n",
      "training:  57%|█████▋    | 17/30 [00:40<00:31,  2.45s/it]\u001b[A\n",
      "training:  60%|██████    | 18/30 [00:43<00:29,  2.44s/it]\u001b[A\n",
      "training:  63%|██████▎   | 19/30 [00:46<00:27,  2.52s/it]\u001b[A\n",
      "training:  67%|██████▋   | 20/30 [00:48<00:24,  2.49s/it]\u001b[A\n",
      "training:  70%|███████   | 21/30 [00:50<00:22,  2.49s/it]\u001b[A\n",
      "training:  73%|███████▎  | 22/30 [00:53<00:20,  2.51s/it]\u001b[A\n",
      "training:  77%|███████▋  | 23/30 [00:55<00:17,  2.47s/it]\u001b[A\n",
      "training:  80%|████████  | 24/30 [00:58<00:15,  2.53s/it]\u001b[A\n",
      "training:  83%|████████▎ | 25/30 [01:01<00:12,  2.57s/it]\u001b[A\n",
      "training:  87%|████████▋ | 26/30 [01:03<00:09,  2.49s/it]\u001b[A\n",
      "training:  90%|█████████ | 27/30 [01:06<00:07,  2.50s/it]\u001b[A\n",
      "training:  93%|█████████▎| 28/30 [01:08<00:04,  2.46s/it]\u001b[A\n",
      "training:  97%|█████████▋| 29/30 [01:10<00:02,  2.43s/it]\u001b[A\n",
      "training: 100%|██████████| 30/30 [01:13<00:00,  2.45s/it]\u001b[A\n",
      "\n",
      "validating:   0%|          | 0/10 [00:00<?, ?it/s]\u001b[A\n",
      "validating:  10%|█         | 1/10 [00:02<00:23,  2.63s/it]\u001b[A\n",
      "validating:  20%|██        | 2/10 [00:04<00:19,  2.45s/it]\u001b[A\n",
      "validating:  30%|███       | 3/10 [00:07<00:16,  2.38s/it]\u001b[A\n",
      "validating:  40%|████      | 4/10 [00:09<00:14,  2.37s/it]\u001b[A\n",
      "validating:  50%|█████     | 5/10 [00:11<00:11,  2.32s/it]\u001b[A\n",
      "validating:  60%|██████    | 6/10 [00:14<00:09,  2.32s/it]\u001b[A\n",
      "validating:  70%|███████   | 7/10 [00:16<00:06,  2.32s/it]\u001b[A\n",
      "validating:  80%|████████  | 8/10 [00:19<00:04,  2.40s/it]\u001b[A\n",
      "validating:  90%|█████████ | 9/10 [00:21<00:02,  2.44s/it]\u001b[A\n",
      "validating: 100%|██████████| 10/10 [00:23<00:00,  2.40s/it]\u001b[A\n",
      "epochs:  40%|████      | 2/5 [03:15<04:53, 97.82s/it]\n",
      "training:   0%|          | 0/30 [00:00<?, ?it/s]\u001b[A\n",
      "training:   3%|▎         | 1/30 [00:02<01:08,  2.36s/it]\u001b[A\n",
      "training:   7%|▋         | 2/30 [00:04<01:07,  2.39s/it]\u001b[A\n",
      "training:  10%|█         | 3/30 [00:07<01:03,  2.36s/it]\u001b[A\n",
      "training:  13%|█▎        | 4/30 [00:09<01:01,  2.36s/it]\u001b[A\n",
      "training:  17%|█▋        | 5/30 [00:12<01:00,  2.44s/it]\u001b[A\n",
      "training:  20%|██        | 6/30 [00:14<00:58,  2.43s/it]\u001b[A\n",
      "training:  23%|██▎       | 7/30 [00:16<00:55,  2.40s/it]\u001b[A\n",
      "training:  27%|██▋       | 8/30 [00:19<00:52,  2.39s/it]\u001b[A\n",
      "training:  30%|███       | 9/30 [00:21<00:49,  2.38s/it]\u001b[A\n",
      "training:  33%|███▎      | 10/30 [00:23<00:47,  2.36s/it]\u001b[A\n",
      "training:  37%|███▋      | 11/30 [00:26<00:45,  2.40s/it]\u001b[A\n",
      "training:  40%|████      | 12/30 [00:28<00:43,  2.41s/it]\u001b[A\n",
      "training:  43%|████▎     | 13/30 [00:31<00:40,  2.39s/it]\u001b[A\n",
      "training:  47%|████▋     | 14/30 [00:33<00:38,  2.38s/it]\u001b[A\n",
      "training:  50%|█████     | 15/30 [00:35<00:35,  2.39s/it]\u001b[A\n",
      "training:  53%|█████▎    | 16/30 [00:38<00:33,  2.38s/it]\u001b[A\n",
      "training:  57%|█████▋    | 17/30 [00:40<00:31,  2.40s/it]\u001b[A\n",
      "training:  60%|██████    | 18/30 [00:43<00:29,  2.46s/it]\u001b[A\n",
      "training:  63%|██████▎   | 19/30 [00:45<00:26,  2.44s/it]\u001b[A\n",
      "training:  67%|██████▋   | 20/30 [00:47<00:23,  2.40s/it]\u001b[A\n",
      "training:  70%|███████   | 21/30 [00:50<00:21,  2.39s/it]\u001b[A\n",
      "training:  73%|███████▎  | 22/30 [00:52<00:19,  2.40s/it]\u001b[A\n",
      "training:  77%|███████▋  | 23/30 [00:55<00:16,  2.37s/it]\u001b[A\n",
      "training:  80%|████████  | 24/30 [00:57<00:14,  2.37s/it]\u001b[A\n",
      "training:  83%|████████▎ | 25/30 [01:00<00:12,  2.44s/it]\u001b[A\n",
      "training:  87%|████████▋ | 26/30 [01:02<00:09,  2.43s/it]\u001b[A\n",
      "training:  90%|█████████ | 27/30 [01:04<00:07,  2.42s/it]\u001b[A\n",
      "training:  93%|█████████▎| 28/30 [01:07<00:04,  2.39s/it]\u001b[A\n",
      "training:  97%|█████████▋| 29/30 [01:09<00:02,  2.39s/it]\u001b[A\n",
      "training: 100%|██████████| 30/30 [01:11<00:00,  2.40s/it]\u001b[A\n",
      "\n",
      "validating:   0%|          | 0/10 [00:00<?, ?it/s]\u001b[A\n",
      "validating:  10%|█         | 1/10 [00:02<00:21,  2.36s/it]\u001b[A\n",
      "validating:  20%|██        | 2/10 [00:04<00:19,  2.39s/it]\u001b[A\n",
      "validating:  30%|███       | 3/10 [00:07<00:16,  2.35s/it]\u001b[A\n",
      "validating:  40%|████      | 4/10 [00:09<00:13,  2.33s/it]\u001b[A\n",
      "validating:  50%|█████     | 5/10 [00:11<00:11,  2.31s/it]\u001b[A\n",
      "validating:  60%|██████    | 6/10 [00:13<00:09,  2.31s/it]\u001b[A\n",
      "validating:  70%|███████   | 7/10 [00:16<00:06,  2.29s/it]\u001b[A\n",
      "validating:  80%|████████  | 8/10 [00:18<00:04,  2.38s/it]\u001b[A\n",
      "validating:  90%|█████████ | 9/10 [00:21<00:02,  2.36s/it]\u001b[A\n",
      "validating: 100%|██████████| 10/10 [00:23<00:00,  2.34s/it]\u001b[A\n",
      "epochs:  60%|██████    | 3/5 [04:51<03:13, 96.68s/it]\n",
      "training:   0%|          | 0/30 [00:00<?, ?it/s]\u001b[A\n",
      "training:   3%|▎         | 1/30 [00:02<01:09,  2.39s/it]\u001b[A\n",
      "training:   7%|▋         | 2/30 [00:04<01:06,  2.36s/it]\u001b[A\n",
      "training:  10%|█         | 3/30 [00:07<01:03,  2.34s/it]\u001b[A\n",
      "training:  13%|█▎        | 4/30 [00:09<01:02,  2.39s/it]\u001b[A\n",
      "training:  17%|█▋        | 5/30 [00:12<01:05,  2.62s/it]\u001b[A\n",
      "training:  20%|██        | 6/30 [00:14<01:01,  2.55s/it]\u001b[A\n",
      "training:  23%|██▎       | 7/30 [00:17<00:57,  2.50s/it]\u001b[A\n",
      "training:  27%|██▋       | 8/30 [00:19<00:53,  2.43s/it]\u001b[A\n",
      "training:  30%|███       | 9/30 [00:21<00:50,  2.41s/it]\u001b[A\n",
      "training:  33%|███▎      | 10/30 [00:24<00:48,  2.42s/it]\u001b[A\n",
      "training:  37%|███▋      | 11/30 [00:26<00:45,  2.41s/it]\u001b[A\n",
      "training:  40%|████      | 12/30 [00:29<00:44,  2.45s/it]\u001b[A\n",
      "training:  43%|████▎     | 13/30 [00:31<00:41,  2.42s/it]\u001b[A\n",
      "training:  47%|████▋     | 14/30 [00:34<00:38,  2.40s/it]\u001b[A\n",
      "training:  50%|█████     | 15/30 [00:36<00:35,  2.39s/it]\u001b[A\n",
      "training:  53%|█████▎    | 16/30 [00:38<00:33,  2.38s/it]\u001b[A\n",
      "training:  57%|█████▋    | 17/30 [00:41<00:30,  2.38s/it]\u001b[A\n",
      "training:  60%|██████    | 18/30 [00:43<00:29,  2.45s/it]\u001b[A\n",
      "training:  63%|██████▎   | 19/30 [00:46<00:26,  2.45s/it]\u001b[A\n",
      "training:  67%|██████▋   | 20/30 [00:48<00:24,  2.44s/it]\u001b[A\n",
      "training:  70%|███████   | 21/30 [00:51<00:21,  2.42s/it]\u001b[A\n",
      "training:  73%|███████▎  | 22/30 [00:53<00:19,  2.42s/it]\u001b[A\n",
      "training:  77%|███████▋  | 23/30 [00:55<00:17,  2.45s/it]\u001b[A\n",
      "training:  80%|████████  | 24/30 [00:58<00:14,  2.43s/it]\u001b[A\n",
      "training:  83%|████████▎ | 25/30 [01:00<00:12,  2.48s/it]\u001b[A\n",
      "training:  87%|████████▋ | 26/30 [01:03<00:10,  2.51s/it]\u001b[A\n",
      "training:  90%|█████████ | 27/30 [01:05<00:07,  2.47s/it]\u001b[A\n",
      "training:  93%|█████████▎| 28/30 [01:08<00:04,  2.50s/it]\u001b[A\n",
      "training:  97%|█████████▋| 29/30 [01:10<00:02,  2.47s/it]\u001b[A\n",
      "training: 100%|██████████| 30/30 [01:13<00:00,  2.44s/it]\u001b[A\n",
      "\n",
      "validating:   0%|          | 0/10 [00:00<?, ?it/s]\u001b[A\n",
      "validating:  10%|█         | 1/10 [00:02<00:22,  2.53s/it]\u001b[A\n",
      "validating:  20%|██        | 2/10 [00:04<00:19,  2.49s/it]\u001b[A\n",
      "validating:  30%|███       | 3/10 [00:07<00:16,  2.40s/it]\u001b[A\n",
      "validating:  40%|████      | 4/10 [00:09<00:14,  2.35s/it]\u001b[A\n",
      "validating:  50%|█████     | 5/10 [00:11<00:11,  2.33s/it]\u001b[A\n",
      "validating:  60%|██████    | 6/10 [00:14<00:09,  2.32s/it]\u001b[A\n",
      "validating:  70%|███████   | 7/10 [00:16<00:06,  2.32s/it]\u001b[A\n",
      "validating:  80%|████████  | 8/10 [00:19<00:04,  2.39s/it]\u001b[A\n",
      "validating:  90%|█████████ | 9/10 [00:21<00:02,  2.36s/it]\u001b[A\n",
      "validating: 100%|██████████| 10/10 [00:23<00:00,  2.36s/it]\u001b[A\n",
      "epochs:  80%|████████  | 4/5 [06:28<01:36, 96.79s/it]\n",
      "training:   0%|          | 0/30 [00:00<?, ?it/s]\u001b[A\n",
      "training:   3%|▎         | 1/30 [00:02<01:08,  2.38s/it]\u001b[A\n",
      "training:   7%|▋         | 2/30 [00:04<01:05,  2.33s/it]\u001b[A\n",
      "training:  10%|█         | 3/30 [00:07<01:03,  2.34s/it]\u001b[A\n",
      "training:  13%|█▎        | 4/30 [00:09<01:01,  2.36s/it]\u001b[A\n",
      "training:  17%|█▋        | 5/30 [00:11<01:00,  2.42s/it]\u001b[A\n",
      "training:  20%|██        | 6/30 [00:14<00:57,  2.40s/it]\u001b[A\n",
      "training:  23%|██▎       | 7/30 [00:16<00:54,  2.38s/it]\u001b[A\n",
      "training:  27%|██▋       | 8/30 [00:18<00:52,  2.37s/it]\u001b[A\n",
      "training:  30%|███       | 9/30 [00:21<00:49,  2.37s/it]\u001b[A\n",
      "training:  33%|███▎      | 10/30 [00:23<00:47,  2.37s/it]\u001b[A\n",
      "training:  37%|███▋      | 11/30 [00:26<00:45,  2.40s/it]\u001b[A\n",
      "training:  40%|████      | 12/30 [00:28<00:43,  2.42s/it]\u001b[A\n",
      "training:  43%|████▎     | 13/30 [00:31<00:41,  2.42s/it]\u001b[A\n",
      "training:  47%|████▋     | 14/30 [00:33<00:38,  2.41s/it]\u001b[A\n",
      "training:  50%|█████     | 15/30 [00:35<00:35,  2.38s/it]\u001b[A\n",
      "training:  53%|█████▎    | 16/30 [00:38<00:33,  2.38s/it]\u001b[A\n",
      "training:  57%|█████▋    | 17/30 [00:40<00:30,  2.36s/it]\u001b[A\n",
      "training:  60%|██████    | 18/30 [00:43<00:29,  2.42s/it]\u001b[A\n",
      "training:  63%|██████▎   | 19/30 [00:45<00:26,  2.41s/it]\u001b[A\n",
      "training:  67%|██████▋   | 20/30 [00:48<00:25,  2.56s/it]\u001b[A\n",
      "training:  70%|███████   | 21/30 [00:50<00:22,  2.54s/it]\u001b[A\n",
      "training:  73%|███████▎  | 22/30 [00:53<00:19,  2.49s/it]\u001b[A\n",
      "training:  77%|███████▋  | 23/30 [00:55<00:17,  2.47s/it]\u001b[A\n",
      "training:  80%|████████  | 24/30 [00:58<00:14,  2.46s/it]\u001b[A\n",
      "training:  83%|████████▎ | 25/30 [01:00<00:12,  2.47s/it]\u001b[A\n",
      "training:  87%|████████▋ | 26/30 [01:02<00:09,  2.43s/it]\u001b[A\n",
      "training:  90%|█████████ | 27/30 [01:05<00:07,  2.40s/it]\u001b[A\n",
      "training:  93%|█████████▎| 28/30 [01:07<00:04,  2.39s/it]\u001b[A\n",
      "training:  97%|█████████▋| 29/30 [01:09<00:02,  2.39s/it]\u001b[A\n",
      "training: 100%|██████████| 30/30 [01:12<00:00,  2.41s/it]\u001b[A\n",
      "\n",
      "validating:   0%|          | 0/10 [00:00<?, ?it/s]\u001b[A\n",
      "validating:  10%|█         | 1/10 [00:02<00:22,  2.51s/it]\u001b[A\n",
      "validating:  20%|██        | 2/10 [00:04<00:19,  2.38s/it]\u001b[A\n",
      "validating:  30%|███       | 3/10 [00:07<00:16,  2.35s/it]\u001b[A\n",
      "validating:  40%|████      | 4/10 [00:09<00:13,  2.33s/it]\u001b[A\n",
      "validating:  50%|█████     | 5/10 [00:11<00:11,  2.31s/it]\u001b[A\n",
      "validating:  60%|██████    | 6/10 [00:14<00:09,  2.33s/it]\u001b[A\n",
      "validating:  70%|███████   | 7/10 [00:16<00:06,  2.33s/it]\u001b[A\n",
      "validating:  80%|████████  | 8/10 [00:18<00:04,  2.39s/it]\u001b[A\n",
      "validating:  90%|█████████ | 9/10 [00:21<00:02,  2.36s/it]\u001b[A\n",
      "validating: 100%|██████████| 10/10 [00:23<00:00,  2.35s/it]\u001b[A\n",
      "epochs: 100%|██████████| 5/5 [08:03<00:00, 96.79s/it]\n"
     ]
    }
   ],
   "source": [
    "from tqdm import tqdm\n",
    "\n",
    "epoch_accuracy_list = []\n",
    "\n",
    "for epoch in tqdm(range(5), desc='epochs'):\n",
    "    for x, y in tqdm(train_data_loader, desc='training'):\n",
    "        y_hat = model(x.view(-1, size_of_image))\n",
    "        loss = criterion(y_hat, y)\n",
    "        optimizer.zero_grad()\n",
    "        loss.backward()\n",
    "        optimizer.step()\n",
    "        \n",
    "    accuracy = []\n",
    "    for x, y in tqdm(valid_data_loader, desc='validating'):\n",
    "        y_hat = model(x.view(-1, size_of_image))\n",
    "        accuracy.append((torch.argmax(y_hat, dim=1) == y).sum().item() / len(y))\n",
    "    \n",
    "    epoch_accuracy_list.append(np.mean(accuracy))"
   ]
  },
  {
   "cell_type": "code",
   "execution_count": 16,
   "metadata": {},
   "outputs": [
    {
     "data": {
      "image/png": "[encoded data removed]",
      "text/plain": [
       "<Figure size 432x288 with 1 Axes>"
      ]
     },
     "metadata": {
      "needs_background": "light"
     },
     "output_type": "display_data"
    }
   ],
   "source": [
    "plt.plot(epoch_accuracy_list)\n",
    "plt.xlabel('epoch')\n",
    "plt.ylabel('accuracy')\n",
    "plt.show()"
   ]
  },
  {
   "cell_type": "markdown",
   "metadata": {},
   "source": [
    "<h2>About the Authors:</h2>\n",
    " <a href=\\\"https://www.linkedin.com/in/joseph-s-50398b136/\\\">Joseph Santarcangelo</a> has a PhD in Electrical Engineering, his research focused on using machine learning, signal processing, and computer vision to determine how videos impact human cognition. Joseph has been working for IBM since he completed his PhD.\n"
   ]
  },
  {
   "cell_type": "markdown",
   "metadata": {},
   "source": [
    "## Change Log\n",
    "\n",
    "| Date (YYYY-MM-DD) | Version | Changed By | Change Description                                          |\n",
    "| ----------------- | ------- | ---------- | ----------------------------------------------------------- |\n",
    "| 2020-09-18        | 2.0     | Shubham    | Migrated Lab to Markdown and added to course repo in GitLab |\n"
   ]
  },
  {
   "cell_type": "markdown",
   "metadata": {},
   "source": [
    "Copyright © 2019 <a href=\"cognitiveclass.ai\"> cognitiveclass.ai</a>. This notebook and its source code are released under the terms of the <a href=\"https://bigdatauniversity.com/mit-license/\">MIT License</a>\n"
   ]
  }
 ],
 "metadata": {
  "kernelspec": {
   "display_name": "Python 3",
   "language": "python",
   "name": "python3"
  },
  "language_info": {
   "codemirror_mode": {
    "name": "ipython",
    "version": 3
   },
   "file_extension": ".py",
   "mimetype": "text/x-python",
   "name": "python",
   "nbconvert_exporter": "python",
   "pygments_lexer": "ipython3",
   "version": "3.8.8"
  }
 },
 "nbformat": 4,
 "nbformat_minor": 4
}
